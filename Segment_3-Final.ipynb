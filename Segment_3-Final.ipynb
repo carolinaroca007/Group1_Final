{
 "cells": [
  {
   "cell_type": "code",
   "execution_count": 1,
   "metadata": {
    "scrolled": true
   },
   "outputs": [
    {
     "ename": "InterfaceError",
     "evalue": "('28000', \"[28000] [Microsoft][ODBC Driver 17 for SQL Server][SQL Server]Login failed for user 'GROUPDB1NU'. (18456) (SQLDriverConnect); [28000] [Microsoft][ODBC Driver 17 for SQL Server]Invalid connection string attribute (0); [28000] [Microsoft][ODBC Driver 17 for SQL Server][SQL Server]Login failed for user 'GROUPDB1NU'. (18456); [28000] [Microsoft][ODBC Driver 17 for SQL Server]Invalid connection string attribute (0)\")",
     "output_type": "error",
     "traceback": [
      "\u001b[1;31m---------------------------------------------------------------------------\u001b[0m",
      "\u001b[1;31mInterfaceError\u001b[0m                            Traceback (most recent call last)",
      "\u001b[1;32m<ipython-input-1-54a240ca451f>\u001b[0m in \u001b[0;36m<module>\u001b[1;34m\u001b[0m\n\u001b[0;32m      6\u001b[0m \u001b[1;31m#Establish connection to SQL database\u001b[0m\u001b[1;33m\u001b[0m\u001b[1;33m\u001b[0m\u001b[1;33m\u001b[0m\u001b[0m\n\u001b[0;32m      7\u001b[0m \u001b[1;33m\u001b[0m\u001b[0m\n\u001b[1;32m----> 8\u001b[1;33m conn = pyodbc.connect('Driver={ODBC Driver 17 for SQL Server};'\n\u001b[0m\u001b[0;32m      9\u001b[0m                       \u001b[1;34m'Server=tcp:group1-owner-nu.database.windows.net,1433;'\u001b[0m\u001b[1;33m\u001b[0m\u001b[1;33m\u001b[0m\u001b[0m\n\u001b[0;32m     10\u001b[0m                       \u001b[1;34m'Database=final-project;'\u001b[0m\u001b[1;33m\u001b[0m\u001b[1;33m\u001b[0m\u001b[0m\n",
      "\u001b[1;31mInterfaceError\u001b[0m: ('28000', \"[28000] [Microsoft][ODBC Driver 17 for SQL Server][SQL Server]Login failed for user 'GROUPDB1NU'. (18456) (SQLDriverConnect); [28000] [Microsoft][ODBC Driver 17 for SQL Server]Invalid connection string attribute (0); [28000] [Microsoft][ODBC Driver 17 for SQL Server][SQL Server]Login failed for user 'GROUPDB1NU'. (18456); [28000] [Microsoft][ODBC Driver 17 for SQL Server]Invalid connection string attribute (0)\")"
     ]
    }
   ],
   "source": [
    "#Import initial dependencies\n",
    "\n",
    "import pandas as pd\n",
    "import pyodbc \n",
    "\n",
    "#Establish connection to SQL database\n",
    "\n",
    "conn = pyodbc.connect('Driver={ODBC Driver 17 for SQL Server};'\n",
    "                      'Server=tcp:group1-owner-nu.database.windows.net,1433;'\n",
    "                      'Database=final-project;'\n",
    "                      'Persist Security Info=False;'\n",
    "                      'Uid=GROUPDB1NU;'\n",
    "                      'Pwd=NU02282021!;'\n",
    "                      'MultipleActiveResultSets=False;'\n",
    "                      'Encrypt=Yes;'\n",
    "                      'TrustServerCertificate=No;'\n",
    "                      'Connection Timeout=30;')\n",
    "\n",
    "\n",
    "cursor = conn.cursor()\n",
    "\n",
    "#Read tables from SQL\n",
    "\n",
    "initial_df = pd.read_sql(\"SELECT * FROM dbo.final_table\", conn)\n",
    "\n",
    "initial_df.head()\n"
   ]
  },
  {
   "cell_type": "code",
   "execution_count": 3,
   "metadata": {},
   "outputs": [
    {
     "name": "stdout",
     "output_type": "stream",
     "text": [
      "(4593, 11) (4593, 1)\n"
     ]
    }
   ],
   "source": [
    "X = initial_df[[\"Winery\", \"WineName\", \"Year\",\"Region\", \"RegionalVariety\", \"VintageRatingCount\",\"VintagePrice\", \"VintageRatingPriceRatio\", \"WineRating\", \"WineRatingCount\", \"WineRatingPriceRatio\"]]\n",
    "y = initial_df[\"VintageRating\"].values.reshape(-1, 1)\n",
    "print(X.shape, y.shape)"
   ]
  },
  {
   "cell_type": "code",
   "execution_count": 4,
   "metadata": {},
   "outputs": [],
   "source": [
    "import matplotlib.pyplot as plt\n",
    "import numpy as np"
   ]
  },
  {
   "cell_type": "code",
   "execution_count": 5,
   "metadata": {},
   "outputs": [
    {
     "data": {
      "text/html": [
       "<div>\n",
       "<style scoped>\n",
       "    .dataframe tbody tr th:only-of-type {\n",
       "        vertical-align: middle;\n",
       "    }\n",
       "\n",
       "    .dataframe tbody tr th {\n",
       "        vertical-align: top;\n",
       "    }\n",
       "\n",
       "    .dataframe thead th {\n",
       "        text-align: right;\n",
       "    }\n",
       "</style>\n",
       "<table border=\"1\" class=\"dataframe\">\n",
       "  <thead>\n",
       "    <tr style=\"text-align: right;\">\n",
       "      <th></th>\n",
       "      <th>FullName</th>\n",
       "      <th>Winery</th>\n",
       "      <th>Year</th>\n",
       "      <th>VintageRating</th>\n",
       "      <th>VintagePrice</th>\n",
       "      <th>VintageRatingPriceRatio</th>\n",
       "      <th>WineRating</th>\n",
       "      <th>WineRatingPriceRatio</th>\n",
       "    </tr>\n",
       "  </thead>\n",
       "  <tbody>\n",
       "    <tr>\n",
       "      <th>0</th>\n",
       "      <td>A. Christmann Idig GG 2012</td>\n",
       "      <td>A. Christmann</td>\n",
       "      <td>2012</td>\n",
       "      <td>4.3</td>\n",
       "      <td>83.95</td>\n",
       "      <td>0.051221</td>\n",
       "      <td>4.3</td>\n",
       "      <td>0.051221</td>\n",
       "    </tr>\n",
       "    <tr>\n",
       "      <th>1</th>\n",
       "      <td>A. Christmann Idig GG 2014</td>\n",
       "      <td>A. Christmann</td>\n",
       "      <td>2014</td>\n",
       "      <td>4.1</td>\n",
       "      <td>77.95</td>\n",
       "      <td>0.052598</td>\n",
       "      <td>4.3</td>\n",
       "      <td>0.055164</td>\n",
       "    </tr>\n",
       "    <tr>\n",
       "      <th>2</th>\n",
       "      <td>A. Christmann Idig GG 2015</td>\n",
       "      <td>A. Christmann</td>\n",
       "      <td>2015</td>\n",
       "      <td>4.3</td>\n",
       "      <td>57.55</td>\n",
       "      <td>0.074718</td>\n",
       "      <td>4.3</td>\n",
       "      <td>0.074718</td>\n",
       "    </tr>\n",
       "    <tr>\n",
       "      <th>3</th>\n",
       "      <td>Abadal Nuat 2015</td>\n",
       "      <td>Abadal</td>\n",
       "      <td>2015</td>\n",
       "      <td>4.1</td>\n",
       "      <td>31.99</td>\n",
       "      <td>0.128165</td>\n",
       "      <td>3.9</td>\n",
       "      <td>0.121913</td>\n",
       "    </tr>\n",
       "    <tr>\n",
       "      <th>4</th>\n",
       "      <td>Abadia Retuerta Le Domaine Blanco de Guarda 2015</td>\n",
       "      <td>Abadia Retuerta</td>\n",
       "      <td>2015</td>\n",
       "      <td>4.1</td>\n",
       "      <td>29.00</td>\n",
       "      <td>0.141379</td>\n",
       "      <td>4.2</td>\n",
       "      <td>0.144828</td>\n",
       "    </tr>\n",
       "  </tbody>\n",
       "</table>\n",
       "</div>"
      ],
      "text/plain": [
       "                                           FullName           Winery  Year  \\\n",
       "0                        A. Christmann Idig GG 2012    A. Christmann  2012   \n",
       "1                        A. Christmann Idig GG 2014    A. Christmann  2014   \n",
       "2                        A. Christmann Idig GG 2015    A. Christmann  2015   \n",
       "3                                  Abadal Nuat 2015           Abadal  2015   \n",
       "4  Abadia Retuerta Le Domaine Blanco de Guarda 2015  Abadia Retuerta  2015   \n",
       "\n",
       "   VintageRating  VintagePrice  VintageRatingPriceRatio  WineRating  \\\n",
       "0            4.3         83.95                 0.051221         4.3   \n",
       "1            4.1         77.95                 0.052598         4.3   \n",
       "2            4.3         57.55                 0.074718         4.3   \n",
       "3            4.1         31.99                 0.128165         3.9   \n",
       "4            4.1         29.00                 0.141379         4.2   \n",
       "\n",
       "   WineRatingPriceRatio  \n",
       "0              0.051221  \n",
       "1              0.055164  \n",
       "2              0.074718  \n",
       "3              0.121913  \n",
       "4              0.144828  "
      ]
     },
     "execution_count": 5,
     "metadata": {},
     "output_type": "execute_result"
    }
   ],
   "source": [
    "# Drop features\n",
    "clean_df = initial_df.drop(['WineName', 'Region', 'RegionalVariety', 'VintageRatingCount', 'WineRatingCount', 'Age', 'WinePrice'], axis=1)\n",
    "clean_df.head()"
   ]
  },
  {
   "cell_type": "code",
   "execution_count": 6,
   "metadata": {},
   "outputs": [],
   "source": [
    "clean_df['Year'] = clean_df['Year'].replace(['N.V.'],'2020').dropna().astype(float)"
   ]
  },
  {
   "cell_type": "code",
   "execution_count": 7,
   "metadata": {
    "scrolled": true
   },
   "outputs": [
    {
     "data": {
      "text/plain": [
       "FullName                    object\n",
       "Winery                      object\n",
       "Year                       float64\n",
       "VintageRating              float64\n",
       "VintagePrice               float64\n",
       "VintageRatingPriceRatio    float64\n",
       "WineRating                 float64\n",
       "WineRatingPriceRatio       float64\n",
       "dtype: object"
      ]
     },
     "execution_count": 7,
     "metadata": {},
     "output_type": "execute_result"
    }
   ],
   "source": [
    "clean_df.dtypes"
   ]
  },
  {
   "cell_type": "code",
   "execution_count": 9,
   "metadata": {},
   "outputs": [
    {
     "name": "stdout",
     "output_type": "stream",
     "text": [
      "<class 'pandas.core.frame.DataFrame'>\n",
      "RangeIndex: 4593 entries, 0 to 4592\n",
      "Data columns (total 8 columns):\n",
      " #   Column                   Non-Null Count  Dtype  \n",
      "---  ------                   --------------  -----  \n",
      " 0   FullName                 4593 non-null   object \n",
      " 1   Winery                   4593 non-null   object \n",
      " 2   Year                     4593 non-null   float64\n",
      " 3   VintageRating            4593 non-null   float64\n",
      " 4   VintagePrice             4593 non-null   float64\n",
      " 5   VintageRatingPriceRatio  4593 non-null   float64\n",
      " 6   WineRating               4593 non-null   float64\n",
      " 7   WineRatingPriceRatio     4593 non-null   float64\n",
      "dtypes: float64(6), object(2)\n",
      "memory usage: 287.2+ KB\n"
     ]
    }
   ],
   "source": [
    "clean_df.info()"
   ]
  },
  {
   "cell_type": "code",
   "execution_count": 10,
   "metadata": {},
   "outputs": [
    {
     "data": {
      "text/html": [
       "<div>\n",
       "<style scoped>\n",
       "    .dataframe tbody tr th:only-of-type {\n",
       "        vertical-align: middle;\n",
       "    }\n",
       "\n",
       "    .dataframe tbody tr th {\n",
       "        vertical-align: top;\n",
       "    }\n",
       "\n",
       "    .dataframe thead th {\n",
       "        text-align: right;\n",
       "    }\n",
       "</style>\n",
       "<table border=\"1\" class=\"dataframe\">\n",
       "  <thead>\n",
       "    <tr style=\"text-align: right;\">\n",
       "      <th></th>\n",
       "      <th>Year</th>\n",
       "      <th>VintageRating</th>\n",
       "      <th>VintagePrice</th>\n",
       "      <th>VintageRatingPriceRatio</th>\n",
       "      <th>WineRating</th>\n",
       "      <th>WineRatingPriceRatio</th>\n",
       "    </tr>\n",
       "  </thead>\n",
       "  <tbody>\n",
       "    <tr>\n",
       "      <th>count</th>\n",
       "      <td>4593.000000</td>\n",
       "      <td>4593.000000</td>\n",
       "      <td>4593.000000</td>\n",
       "      <td>4593.000000</td>\n",
       "      <td>4593.000000</td>\n",
       "      <td>4593.000000</td>\n",
       "    </tr>\n",
       "    <tr>\n",
       "      <th>mean</th>\n",
       "      <td>2013.627694</td>\n",
       "      <td>4.208295</td>\n",
       "      <td>103.891106</td>\n",
       "      <td>0.101720</td>\n",
       "      <td>4.159634</td>\n",
       "      <td>0.100227</td>\n",
       "    </tr>\n",
       "    <tr>\n",
       "      <th>std</th>\n",
       "      <td>3.907002</td>\n",
       "      <td>0.171775</td>\n",
       "      <td>437.899654</td>\n",
       "      <td>0.054876</td>\n",
       "      <td>0.175613</td>\n",
       "      <td>0.053594</td>\n",
       "    </tr>\n",
       "    <tr>\n",
       "      <th>min</th>\n",
       "      <td>1983.000000</td>\n",
       "      <td>3.900000</td>\n",
       "      <td>10.500000</td>\n",
       "      <td>0.000512</td>\n",
       "      <td>3.500000</td>\n",
       "      <td>0.000512</td>\n",
       "    </tr>\n",
       "    <tr>\n",
       "      <th>25%</th>\n",
       "      <td>2012.000000</td>\n",
       "      <td>4.100000</td>\n",
       "      <td>28.480000</td>\n",
       "      <td>0.057525</td>\n",
       "      <td>4.000000</td>\n",
       "      <td>0.057333</td>\n",
       "    </tr>\n",
       "    <tr>\n",
       "      <th>50%</th>\n",
       "      <td>2015.000000</td>\n",
       "      <td>4.200000</td>\n",
       "      <td>41.670000</td>\n",
       "      <td>0.100024</td>\n",
       "      <td>4.100000</td>\n",
       "      <td>0.098843</td>\n",
       "    </tr>\n",
       "    <tr>\n",
       "      <th>75%</th>\n",
       "      <td>2016.000000</td>\n",
       "      <td>4.300000</td>\n",
       "      <td>74.680000</td>\n",
       "      <td>0.144828</td>\n",
       "      <td>4.300000</td>\n",
       "      <td>0.142809</td>\n",
       "    </tr>\n",
       "    <tr>\n",
       "      <th>max</th>\n",
       "      <td>2020.000000</td>\n",
       "      <td>4.900000</td>\n",
       "      <td>9180.000000</td>\n",
       "      <td>0.380952</td>\n",
       "      <td>4.700000</td>\n",
       "      <td>0.361905</td>\n",
       "    </tr>\n",
       "  </tbody>\n",
       "</table>\n",
       "</div>"
      ],
      "text/plain": [
       "              Year  VintageRating  VintagePrice  VintageRatingPriceRatio  \\\n",
       "count  4593.000000    4593.000000   4593.000000              4593.000000   \n",
       "mean   2013.627694       4.208295    103.891106                 0.101720   \n",
       "std       3.907002       0.171775    437.899654                 0.054876   \n",
       "min    1983.000000       3.900000     10.500000                 0.000512   \n",
       "25%    2012.000000       4.100000     28.480000                 0.057525   \n",
       "50%    2015.000000       4.200000     41.670000                 0.100024   \n",
       "75%    2016.000000       4.300000     74.680000                 0.144828   \n",
       "max    2020.000000       4.900000   9180.000000                 0.380952   \n",
       "\n",
       "        WineRating  WineRatingPriceRatio  \n",
       "count  4593.000000           4593.000000  \n",
       "mean      4.159634              0.100227  \n",
       "std       0.175613              0.053594  \n",
       "min       3.500000              0.000512  \n",
       "25%       4.000000              0.057333  \n",
       "50%       4.100000              0.098843  \n",
       "75%       4.300000              0.142809  \n",
       "max       4.700000              0.361905  "
      ]
     },
     "execution_count": 10,
     "metadata": {},
     "output_type": "execute_result"
    }
   ],
   "source": [
    "clean_df.describe()"
   ]
  },
  {
   "cell_type": "code",
   "execution_count": 10,
   "metadata": {
    "scrolled": true
   },
   "outputs": [
    {
     "name": "stdout",
     "output_type": "stream",
     "text": [
      "(4593, 5) (4593, 1)\n"
     ]
    }
   ],
   "source": [
    "# \"FullName\", \"Winery\",\n",
    "X = clean_df[[ \"Year\", \"VintagePrice\", \"VintageRatingPriceRatio\", \"WineRating\", \"WineRatingPriceRatio\"]]\n",
    "y = clean_df[\"VintageRating\"].values.reshape(-1, 1)\n",
    "print(X.shape, y.shape)"
   ]
  },
  {
   "cell_type": "code",
   "execution_count": 13,
   "metadata": {},
   "outputs": [],
   "source": [
    "from sklearn.pipeline import make_pipeline\n",
    "from sklearn.linear_model import LinearRegression\n",
    "from sklearn.preprocessing import StandardScaler, OrdinalEncoder\n",
    "from sklearn.model_selection import train_test_split"
   ]
  },
  {
   "cell_type": "code",
   "execution_count": 15,
   "metadata": {},
   "outputs": [
    {
     "data": {
      "text/plain": [
       "array([[-0.41665485, -0.04554303, -0.92034151,  0.79937949, -0.91449465],\n",
       "       [ 0.09530227, -0.05924629, -0.89524864,  0.79937949, -0.84092295],\n",
       "       [ 0.35128084, -0.10583738, -0.49211979,  0.79937949, -0.47603031],\n",
       "       ...,\n",
       "       [ 1.11921652, -0.0869954 , -0.69054848,  0.22988205, -0.67920521],\n",
       "       [ 0.09530227, -0.16720515,  0.52227993, -0.90911283,  0.5626328 ],\n",
       "       [ 1.11921652, -0.18412868,  1.43555664, -0.90911283,  1.33736996]])"
      ]
     },
     "execution_count": 15,
     "metadata": {},
     "output_type": "execute_result"
    }
   ],
   "source": [
    "from sklearn.compose import ColumnTransformer\n",
    "from sklearn.compose import make_column_transformer\n",
    "from sklearn.compose import make_column_selector\n",
    "\n",
    "ct = make_column_transformer(\n",
    "    (StandardScaler(), make_column_selector(dtype_include=np.float64)),\n",
    "    (OrdinalEncoder(), make_column_selector(dtype_include=object))\n",
    ")\n",
    "ct.fit_transform(X)"
   ]
  },
  {
   "cell_type": "code",
   "execution_count": 16,
   "metadata": {},
   "outputs": [
    {
     "data": {
      "text/plain": [
       "0.877734987463609"
      ]
     },
     "execution_count": 16,
     "metadata": {},
     "output_type": "execute_result"
    }
   ],
   "source": [
    "X_encoded = ct.fit_transform(X)\n",
    "y_encoded = y\n",
    "lr = LinearRegression()\n",
    "lr.fit(X_encoded, y_encoded)\n",
    "lr.score(X_encoded, y_encoded)"
   ]
  },
  {
   "cell_type": "code",
   "execution_count": 17,
   "metadata": {},
   "outputs": [
    {
     "data": {
      "text/plain": [
       "0.8640005437048607"
      ]
     },
     "execution_count": 17,
     "metadata": {},
     "output_type": "execute_result"
    }
   ],
   "source": [
    "X_train, X_test, y_train, y_test = train_test_split(X, y, random_state=42)\n",
    "model = make_pipeline(ct, LinearRegression())\n",
    "model.fit(X, y)\n",
    "model.score(X_test, y_test)"
   ]
  },
  {
   "cell_type": "code",
   "execution_count": 29,
   "metadata": {},
   "outputs": [
    {
     "data": {
      "text/html": [
       "<style>div.sk-top-container {color: black;background-color: white;}div.sk-toggleable {background-color: white;}label.sk-toggleable__label {cursor: pointer;display: block;width: 100%;margin-bottom: 0;padding: 0.2em 0.3em;box-sizing: border-box;text-align: center;}div.sk-toggleable__content {max-height: 0;max-width: 0;overflow: hidden;text-align: left;background-color: #f0f8ff;}div.sk-toggleable__content pre {margin: 0.2em;color: black;border-radius: 0.25em;background-color: #f0f8ff;}input.sk-toggleable__control:checked~div.sk-toggleable__content {max-height: 200px;max-width: 100%;overflow: auto;}div.sk-estimator input.sk-toggleable__control:checked~label.sk-toggleable__label {background-color: #d4ebff;}div.sk-label input.sk-toggleable__control:checked~label.sk-toggleable__label {background-color: #d4ebff;}input.sk-hidden--visually {border: 0;clip: rect(1px 1px 1px 1px);clip: rect(1px, 1px, 1px, 1px);height: 1px;margin: -1px;overflow: hidden;padding: 0;position: absolute;width: 1px;}div.sk-estimator {font-family: monospace;background-color: #f0f8ff;margin: 0.25em 0.25em;border: 1px dotted black;border-radius: 0.25em;box-sizing: border-box;}div.sk-estimator:hover {background-color: #d4ebff;}div.sk-parallel-item::after {content: \"\";width: 100%;border-bottom: 1px solid gray;flex-grow: 1;}div.sk-label:hover label.sk-toggleable__label {background-color: #d4ebff;}div.sk-serial::before {content: \"\";position: absolute;border-left: 1px solid gray;box-sizing: border-box;top: 2em;bottom: 0;left: 50%;}div.sk-serial {display: flex;flex-direction: column;align-items: center;background-color: white;}div.sk-item {z-index: 1;}div.sk-parallel {display: flex;align-items: stretch;justify-content: center;background-color: white;}div.sk-parallel-item {display: flex;flex-direction: column;position: relative;background-color: white;}div.sk-parallel-item:first-child::after {align-self: flex-end;width: 50%;}div.sk-parallel-item:last-child::after {align-self: flex-start;width: 50%;}div.sk-parallel-item:only-child::after {width: 0;}div.sk-dashed-wrapped {border: 1px dashed gray;margin: 0.2em;box-sizing: border-box;padding-bottom: 0.1em;background-color: white;position: relative;}div.sk-label label {font-family: monospace;font-weight: bold;background-color: white;display: inline-block;line-height: 1.2em;}div.sk-label-container {position: relative;z-index: 2;text-align: center;}div.sk-container {display: inline-block;position: relative;}</style><div class=\"sk-top-container\"><div class=\"sk-container\"><div class=\"sk-item sk-dashed-wrapped\"><div class=\"sk-label-container\"><div class=\"sk-label sk-toggleable\"><input class=\"sk-toggleable__control sk-hidden--visually\" id=\"9a1a4d71-f811-4dcd-9448-9991acc0431e\" type=\"checkbox\" ><label class=\"sk-toggleable__label\" for=\"9a1a4d71-f811-4dcd-9448-9991acc0431e\">Pipeline</label><div class=\"sk-toggleable__content\"><pre>Pipeline(steps=[('columntransformer',\n",
       "                 ColumnTransformer(transformers=[('standardscaler',\n",
       "                                                  StandardScaler(),\n",
       "                                                  <sklearn.compose._column_transformer.make_column_selector object at 0x00000242051B7748>),\n",
       "                                                 ('ordinalencoder',\n",
       "                                                  OrdinalEncoder(),\n",
       "                                                  <sklearn.compose._column_transformer.make_column_selector object at 0x00000242051B7B88>)])),\n",
       "                ('linearregression', LinearRegression())])</pre></div></div></div><div class=\"sk-serial\"><div class=\"sk-item sk-dashed-wrapped\"><div class=\"sk-label-container\"><div class=\"sk-label sk-toggleable\"><input class=\"sk-toggleable__control sk-hidden--visually\" id=\"0df5dabb-7ba1-49d9-b051-64c7a7b6994b\" type=\"checkbox\" ><label class=\"sk-toggleable__label\" for=\"0df5dabb-7ba1-49d9-b051-64c7a7b6994b\">columntransformer: ColumnTransformer</label><div class=\"sk-toggleable__content\"><pre>ColumnTransformer(transformers=[('standardscaler', StandardScaler(),\n",
       "                                 <sklearn.compose._column_transformer.make_column_selector object at 0x00000242051B7748>),\n",
       "                                ('ordinalencoder', OrdinalEncoder(),\n",
       "                                 <sklearn.compose._column_transformer.make_column_selector object at 0x00000242051B7B88>)])</pre></div></div></div><div class=\"sk-parallel\"><div class=\"sk-parallel-item\"><div class=\"sk-item\"><div class=\"sk-label-container\"><div class=\"sk-label sk-toggleable\"><input class=\"sk-toggleable__control sk-hidden--visually\" id=\"c928da40-2b46-4db8-aecd-503c2a831ce2\" type=\"checkbox\" ><label class=\"sk-toggleable__label\" for=\"c928da40-2b46-4db8-aecd-503c2a831ce2\">standardscaler</label><div class=\"sk-toggleable__content\"><pre><sklearn.compose._column_transformer.make_column_selector object at 0x00000242051B7748></pre></div></div></div><div class=\"sk-serial\"><div class=\"sk-item\"><div class=\"sk-estimator sk-toggleable\"><input class=\"sk-toggleable__control sk-hidden--visually\" id=\"d9741893-31e3-4eb2-8e76-fcc65f2e020c\" type=\"checkbox\" ><label class=\"sk-toggleable__label\" for=\"d9741893-31e3-4eb2-8e76-fcc65f2e020c\">StandardScaler</label><div class=\"sk-toggleable__content\"><pre>StandardScaler()</pre></div></div></div></div></div></div><div class=\"sk-parallel-item\"><div class=\"sk-item\"><div class=\"sk-label-container\"><div class=\"sk-label sk-toggleable\"><input class=\"sk-toggleable__control sk-hidden--visually\" id=\"02fcf0af-dd4a-4104-8515-c2210b707dc7\" type=\"checkbox\" ><label class=\"sk-toggleable__label\" for=\"02fcf0af-dd4a-4104-8515-c2210b707dc7\">ordinalencoder</label><div class=\"sk-toggleable__content\"><pre><sklearn.compose._column_transformer.make_column_selector object at 0x00000242051B7B88></pre></div></div></div><div class=\"sk-serial\"><div class=\"sk-item\"><div class=\"sk-estimator sk-toggleable\"><input class=\"sk-toggleable__control sk-hidden--visually\" id=\"9c537a4d-6baa-45a9-8a50-7236ea14acde\" type=\"checkbox\" ><label class=\"sk-toggleable__label\" for=\"9c537a4d-6baa-45a9-8a50-7236ea14acde\">OrdinalEncoder</label><div class=\"sk-toggleable__content\"><pre>OrdinalEncoder()</pre></div></div></div></div></div></div></div></div><div class=\"sk-item\"><div class=\"sk-estimator sk-toggleable\"><input class=\"sk-toggleable__control sk-hidden--visually\" id=\"a59615c4-b305-4e9e-b808-d278c34bd5cf\" type=\"checkbox\" ><label class=\"sk-toggleable__label\" for=\"a59615c4-b305-4e9e-b808-d278c34bd5cf\">LinearRegression</label><div class=\"sk-toggleable__content\"><pre>LinearRegression()</pre></div></div></div></div></div></div></div>"
      ],
      "text/plain": [
       "Pipeline(steps=[('columntransformer',\n",
       "                 ColumnTransformer(transformers=[('standardscaler',\n",
       "                                                  StandardScaler(),\n",
       "                                                  <sklearn.compose._column_transformer.make_column_selector object at 0x00000242051B7748>),\n",
       "                                                 ('ordinalencoder',\n",
       "                                                  OrdinalEncoder(),\n",
       "                                                  <sklearn.compose._column_transformer.make_column_selector object at 0x00000242051B7B88>)])),\n",
       "                ('linearregression', LinearRegression())])"
      ]
     },
     "execution_count": 29,
     "metadata": {},
     "output_type": "execute_result"
    }
   ],
   "source": [
    "# visualize pipeline\n",
    "from sklearn import set_config\n",
    "set_config(display=\"diagram\")\n",
    "model"
   ]
  },
  {
   "cell_type": "code",
   "execution_count": 18,
   "metadata": {
    "scrolled": true
   },
   "outputs": [
    {
     "data": {
      "text/plain": [
       "[('columntransformer',\n",
       "  ColumnTransformer(transformers=[('standardscaler', StandardScaler(),\n",
       "                                   <sklearn.compose._column_transformer.make_column_selector object at 0x00000128F970BAC8>),\n",
       "                                  ('ordinalencoder', OrdinalEncoder(),\n",
       "                                   <sklearn.compose._column_transformer.make_column_selector object at 0x00000128F9091848>)])),\n",
       " ('linearregression', LinearRegression())]"
      ]
     },
     "execution_count": 18,
     "metadata": {},
     "output_type": "execute_result"
    }
   ],
   "source": [
    "# steps that transform input data into a format understod by the model\n",
    "model.steps"
   ]
  },
  {
   "cell_type": "code",
   "execution_count": 20,
   "metadata": {
    "scrolled": false
   },
   "outputs": [
    {
     "data": {
      "image/png": "[encoded data removed]",
      "text/plain": [
       "<Figure size 576x396 with 2 Axes>"
      ]
     },
     "metadata": {},
     "output_type": "display_data"
    },
    {
     "data": {
      "text/plain": [
       "<AxesSubplot:title={'center':'Residuals for LinearRegression Model'}, xlabel='Predicted Value', ylabel='Residuals'>"
      ]
     },
     "execution_count": 20,
     "metadata": {},
     "output_type": "execute_result"
    }
   ],
   "source": [
    "from yellowbrick.regressor import ResidualsPlot\n",
    "from sklearn.linear_model import LinearRegression\n",
    "from sklearn.model_selection import train_test_split\n",
    "\n",
    "# Create training and test sets\n",
    "X_train, X_test, y_train, y_test = train_test_split(\n",
    "    X, y, test_size=0.1\n",
    ")\n",
    "\n",
    "visualizer = ResidualsPlot(model)\n",
    "visualizer.fit(X, y)\n",
    "visualizer.score(X_test, y_test)\n",
    "visualizer.show()"
   ]
  },
  {
   "cell_type": "code",
   "execution_count": 21,
   "metadata": {},
   "outputs": [],
   "source": [
    "from sklearn.metrics import mean_squared_error\n",
    "\n",
    "predictions = model.predict(X_test)\n",
    "MSE = mean_squared_error(y_test, predictions)\n",
    "r2 = model.score(X_test, y_test)"
   ]
  },
  {
   "cell_type": "code",
   "execution_count": 22,
   "metadata": {},
   "outputs": [
    {
     "name": "stdout",
     "output_type": "stream",
     "text": [
      "MSE: 0.003395387554488735, R2: 0.877407772833871\n"
     ]
    }
   ],
   "source": [
    "print(f\"MSE: {MSE}, R2: {r2}\")"
   ]
  },
  {
   "cell_type": "code",
   "execution_count": 24,
   "metadata": {},
   "outputs": [
    {
     "data": {
      "image/png": "[encoded data removed]",
      "text/plain": [
       "<Figure size 576x396 with 2 Axes>"
      ]
     },
     "metadata": {},
     "output_type": "display_data"
    },
    {
     "data": {
      "text/plain": [
       "<AxesSubplot:title={'center':'Pearson Ranking of 5 Features'}>"
      ]
     },
     "execution_count": 24,
     "metadata": {},
     "output_type": "execute_result"
    }
   ],
   "source": [
    "from yellowbrick.features import Rank2D\n",
    "\n",
    "visualizer = Rank2D(algorithm=\"pearson\")\n",
    "visualizer.fit_transform(X)\n",
    "visualizer.show()"
   ]
  },
  {
   "cell_type": "code",
   "execution_count": 30,
   "metadata": {},
   "outputs": [],
   "source": [
    "clean_df.to_csv('clean_df.csv', index=False)"
   ]
  },
  {
   "cell_type": "code",
   "execution_count": null,
   "metadata": {},
   "outputs": [],
   "source": []
  }
 ],
 "metadata": {
  "kernelspec": {
   "display_name": "mlenv",
   "language": "python",
   "name": "mlenv"
  },
  "language_info": {
   "codemirror_mode": {
    "name": "ipython",
    "version": 3
   },
   "file_extension": ".py",
   "mimetype": "text/x-python",
   "name": "python",
   "nbconvert_exporter": "python",
   "pygments_lexer": "ipython3",
   "version": "3.7.9"
  }
 },
 "nbformat": 4,
 "nbformat_minor": 4
}
