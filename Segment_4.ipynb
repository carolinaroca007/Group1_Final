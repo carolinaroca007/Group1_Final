{
 "cells": [
  {
   "cell_type": "code",
   "execution_count": 1,
   "metadata": {
    "scrolled": true
   },
   "outputs": [
    {
     "data": {
      "text/html": [
       "<div>\n",
       "<style scoped>\n",
       "    .dataframe tbody tr th:only-of-type {\n",
       "        vertical-align: middle;\n",
       "    }\n",
       "\n",
       "    .dataframe tbody tr th {\n",
       "        vertical-align: top;\n",
       "    }\n",
       "\n",
       "    .dataframe thead th {\n",
       "        text-align: right;\n",
       "    }\n",
       "</style>\n",
       "<table border=\"1\" class=\"dataframe\">\n",
       "  <thead>\n",
       "    <tr style=\"text-align: right;\">\n",
       "      <th></th>\n",
       "      <th>FullName</th>\n",
       "      <th>Winery</th>\n",
       "      <th>WineName</th>\n",
       "      <th>Year</th>\n",
       "      <th>Region</th>\n",
       "      <th>RegionalVariety</th>\n",
       "      <th>VintageRating</th>\n",
       "      <th>VintageRatingCount</th>\n",
       "      <th>VintagePrice</th>\n",
       "      <th>VintageRatingPriceRatio</th>\n",
       "      <th>Age</th>\n",
       "      <th>WineRating</th>\n",
       "      <th>WineRatingCount</th>\n",
       "      <th>WinePrice</th>\n",
       "      <th>WineRatingPriceRatio</th>\n",
       "    </tr>\n",
       "  </thead>\n",
       "  <tbody>\n",
       "    <tr>\n",
       "      <th>0</th>\n",
       "      <td>A. Christmann Idig GG 2012</td>\n",
       "      <td>A. Christmann</td>\n",
       "      <td>Idig GG</td>\n",
       "      <td>2012</td>\n",
       "      <td>German</td>\n",
       "      <td>Riesling</td>\n",
       "      <td>4.3</td>\n",
       "      <td>106</td>\n",
       "      <td>83.95</td>\n",
       "      <td>0.051221</td>\n",
       "      <td>9</td>\n",
       "      <td>4.3</td>\n",
       "      <td>869</td>\n",
       "      <td>83.95</td>\n",
       "      <td>0.051221</td>\n",
       "    </tr>\n",
       "    <tr>\n",
       "      <th>1</th>\n",
       "      <td>A. Christmann Idig GG 2014</td>\n",
       "      <td>A. Christmann</td>\n",
       "      <td>Idig GG</td>\n",
       "      <td>2014</td>\n",
       "      <td>German</td>\n",
       "      <td>Riesling</td>\n",
       "      <td>4.1</td>\n",
       "      <td>95</td>\n",
       "      <td>77.95</td>\n",
       "      <td>0.052598</td>\n",
       "      <td>7</td>\n",
       "      <td>4.3</td>\n",
       "      <td>869</td>\n",
       "      <td>77.95</td>\n",
       "      <td>0.055164</td>\n",
       "    </tr>\n",
       "    <tr>\n",
       "      <th>2</th>\n",
       "      <td>A. Christmann Idig GG 2015</td>\n",
       "      <td>A. Christmann</td>\n",
       "      <td>Idig GG</td>\n",
       "      <td>2015</td>\n",
       "      <td>German</td>\n",
       "      <td>Riesling</td>\n",
       "      <td>4.3</td>\n",
       "      <td>105</td>\n",
       "      <td>57.55</td>\n",
       "      <td>0.074718</td>\n",
       "      <td>6</td>\n",
       "      <td>4.3</td>\n",
       "      <td>869</td>\n",
       "      <td>57.55</td>\n",
       "      <td>0.074718</td>\n",
       "    </tr>\n",
       "    <tr>\n",
       "      <th>3</th>\n",
       "      <td>Abadal Nuat 2015</td>\n",
       "      <td>Abadal</td>\n",
       "      <td>Nuat</td>\n",
       "      <td>2015</td>\n",
       "      <td>None</td>\n",
       "      <td>None</td>\n",
       "      <td>4.1</td>\n",
       "      <td>29</td>\n",
       "      <td>31.99</td>\n",
       "      <td>0.128165</td>\n",
       "      <td>6</td>\n",
       "      <td>3.9</td>\n",
       "      <td>253</td>\n",
       "      <td>31.99</td>\n",
       "      <td>0.121913</td>\n",
       "    </tr>\n",
       "    <tr>\n",
       "      <th>4</th>\n",
       "      <td>Abadia Retuerta Le Domaine Blanco de Guarda 2015</td>\n",
       "      <td>Abadia Retuerta</td>\n",
       "      <td>Le Domaine Blanco de Guarda</td>\n",
       "      <td>2015</td>\n",
       "      <td>None</td>\n",
       "      <td>None</td>\n",
       "      <td>4.1</td>\n",
       "      <td>149</td>\n",
       "      <td>29.00</td>\n",
       "      <td>0.141379</td>\n",
       "      <td>6</td>\n",
       "      <td>4.2</td>\n",
       "      <td>1424</td>\n",
       "      <td>29.00</td>\n",
       "      <td>0.144828</td>\n",
       "    </tr>\n",
       "  </tbody>\n",
       "</table>\n",
       "</div>"
      ],
      "text/plain": [
       "                                           FullName           Winery  \\\n",
       "0                        A. Christmann Idig GG 2012    A. Christmann   \n",
       "1                        A. Christmann Idig GG 2014    A. Christmann   \n",
       "2                        A. Christmann Idig GG 2015    A. Christmann   \n",
       "3                                  Abadal Nuat 2015           Abadal   \n",
       "4  Abadia Retuerta Le Domaine Blanco de Guarda 2015  Abadia Retuerta   \n",
       "\n",
       "                      WineName  Year  Region RegionalVariety  VintageRating  \\\n",
       "0                      Idig GG  2012  German        Riesling            4.3   \n",
       "1                      Idig GG  2014  German        Riesling            4.1   \n",
       "2                      Idig GG  2015  German        Riesling            4.3   \n",
       "3                         Nuat  2015    None            None            4.1   \n",
       "4  Le Domaine Blanco de Guarda  2015    None            None            4.1   \n",
       "\n",
       "   VintageRatingCount  VintagePrice  VintageRatingPriceRatio Age  WineRating  \\\n",
       "0                 106         83.95                 0.051221   9         4.3   \n",
       "1                  95         77.95                 0.052598   7         4.3   \n",
       "2                 105         57.55                 0.074718   6         4.3   \n",
       "3                  29         31.99                 0.128165   6         3.9   \n",
       "4                 149         29.00                 0.141379   6         4.2   \n",
       "\n",
       "   WineRatingCount  WinePrice  WineRatingPriceRatio  \n",
       "0              869      83.95              0.051221  \n",
       "1              869      77.95              0.055164  \n",
       "2              869      57.55              0.074718  \n",
       "3              253      31.99              0.121913  \n",
       "4             1424      29.00              0.144828  "
      ]
     },
     "execution_count": 1,
     "metadata": {},
     "output_type": "execute_result"
    }
   ],
   "source": [
    "#Import initial dependencies\n",
    "\n",
    "import pandas as pd\n",
    "import pyodbc \n",
    "\n",
    "#Establish connection to SQL database\n",
    "\n",
    "conn = pyodbc.connect('Driver={ODBC Driver 17 for SQL Server};'\n",
    "                      'Server=tcp:group1-owner-nu.database.windows.net,1433;'\n",
    "                      'Database=final-project;'\n",
    "                      'Persist Security Info=False;'\n",
    "                      'Uid=GROUPDB1NU;'\n",
    "                      'Pwd=NU02282021!;'\n",
    "                      'MultipleActiveResultSets=False;'\n",
    "                      'Encrypt=Yes;'\n",
    "                      'TrustServerCertificate=No;'\n",
    "                      'Connection Timeout=30;')\n",
    "\n",
    "\n",
    "cursor = conn.cursor()\n",
    "\n",
    "#Read tables from SQL\n",
    "\n",
    "initial_df = pd.read_sql(\"SELECT * FROM dbo.final_table\", conn)\n",
    "\n",
    "initial_df.head()\n"
   ]
  },
  {
   "cell_type": "code",
   "execution_count": 2,
   "metadata": {},
   "outputs": [
    {
     "name": "stdout",
     "output_type": "stream",
     "text": [
      "(4593, 11) (4593, 1)\n"
     ]
    }
   ],
   "source": [
    "X = initial_df[[\"Winery\", \"WineName\", \"Year\",\"Region\", \"RegionalVariety\", \"VintageRatingCount\",\"VintagePrice\", \"VintageRatingPriceRatio\", \"WineRating\", \"WineRatingCount\", \"WineRatingPriceRatio\"]]\n",
    "y = initial_df[\"VintageRating\"].values.reshape(-1, 1)\n",
    "print(X.shape, y.shape)"
   ]
  },
  {
   "cell_type": "code",
   "execution_count": 3,
   "metadata": {},
   "outputs": [],
   "source": [
    "import matplotlib.pyplot as plt\n",
    "import numpy as np"
   ]
  },
  {
   "cell_type": "code",
   "execution_count": 4,
   "metadata": {},
   "outputs": [
    {
     "data": {
      "text/html": [
       "<div>\n",
       "<style scoped>\n",
       "    .dataframe tbody tr th:only-of-type {\n",
       "        vertical-align: middle;\n",
       "    }\n",
       "\n",
       "    .dataframe tbody tr th {\n",
       "        vertical-align: top;\n",
       "    }\n",
       "\n",
       "    .dataframe thead th {\n",
       "        text-align: right;\n",
       "    }\n",
       "</style>\n",
       "<table border=\"1\" class=\"dataframe\">\n",
       "  <thead>\n",
       "    <tr style=\"text-align: right;\">\n",
       "      <th></th>\n",
       "      <th>FullName</th>\n",
       "      <th>Winery</th>\n",
       "      <th>Year</th>\n",
       "      <th>VintageRating</th>\n",
       "      <th>VintagePrice</th>\n",
       "      <th>VintageRatingPriceRatio</th>\n",
       "      <th>WineRating</th>\n",
       "      <th>WineRatingPriceRatio</th>\n",
       "    </tr>\n",
       "  </thead>\n",
       "  <tbody>\n",
       "    <tr>\n",
       "      <th>0</th>\n",
       "      <td>A. Christmann Idig GG 2012</td>\n",
       "      <td>A. Christmann</td>\n",
       "      <td>2012</td>\n",
       "      <td>4.3</td>\n",
       "      <td>83.95</td>\n",
       "      <td>0.051221</td>\n",
       "      <td>4.3</td>\n",
       "      <td>0.051221</td>\n",
       "    </tr>\n",
       "    <tr>\n",
       "      <th>1</th>\n",
       "      <td>A. Christmann Idig GG 2014</td>\n",
       "      <td>A. Christmann</td>\n",
       "      <td>2014</td>\n",
       "      <td>4.1</td>\n",
       "      <td>77.95</td>\n",
       "      <td>0.052598</td>\n",
       "      <td>4.3</td>\n",
       "      <td>0.055164</td>\n",
       "    </tr>\n",
       "    <tr>\n",
       "      <th>2</th>\n",
       "      <td>A. Christmann Idig GG 2015</td>\n",
       "      <td>A. Christmann</td>\n",
       "      <td>2015</td>\n",
       "      <td>4.3</td>\n",
       "      <td>57.55</td>\n",
       "      <td>0.074718</td>\n",
       "      <td>4.3</td>\n",
       "      <td>0.074718</td>\n",
       "    </tr>\n",
       "    <tr>\n",
       "      <th>3</th>\n",
       "      <td>Abadal Nuat 2015</td>\n",
       "      <td>Abadal</td>\n",
       "      <td>2015</td>\n",
       "      <td>4.1</td>\n",
       "      <td>31.99</td>\n",
       "      <td>0.128165</td>\n",
       "      <td>3.9</td>\n",
       "      <td>0.121913</td>\n",
       "    </tr>\n",
       "    <tr>\n",
       "      <th>4</th>\n",
       "      <td>Abadia Retuerta Le Domaine Blanco de Guarda 2015</td>\n",
       "      <td>Abadia Retuerta</td>\n",
       "      <td>2015</td>\n",
       "      <td>4.1</td>\n",
       "      <td>29.00</td>\n",
       "      <td>0.141379</td>\n",
       "      <td>4.2</td>\n",
       "      <td>0.144828</td>\n",
       "    </tr>\n",
       "  </tbody>\n",
       "</table>\n",
       "</div>"
      ],
      "text/plain": [
       "                                           FullName           Winery  Year  \\\n",
       "0                        A. Christmann Idig GG 2012    A. Christmann  2012   \n",
       "1                        A. Christmann Idig GG 2014    A. Christmann  2014   \n",
       "2                        A. Christmann Idig GG 2015    A. Christmann  2015   \n",
       "3                                  Abadal Nuat 2015           Abadal  2015   \n",
       "4  Abadia Retuerta Le Domaine Blanco de Guarda 2015  Abadia Retuerta  2015   \n",
       "\n",
       "   VintageRating  VintagePrice  VintageRatingPriceRatio  WineRating  \\\n",
       "0            4.3         83.95                 0.051221         4.3   \n",
       "1            4.1         77.95                 0.052598         4.3   \n",
       "2            4.3         57.55                 0.074718         4.3   \n",
       "3            4.1         31.99                 0.128165         3.9   \n",
       "4            4.1         29.00                 0.141379         4.2   \n",
       "\n",
       "   WineRatingPriceRatio  \n",
       "0              0.051221  \n",
       "1              0.055164  \n",
       "2              0.074718  \n",
       "3              0.121913  \n",
       "4              0.144828  "
      ]
     },
     "execution_count": 4,
     "metadata": {},
     "output_type": "execute_result"
    }
   ],
   "source": [
    "# Drop features\n",
    "clean_df = initial_df.drop(['WineName', 'Region', 'RegionalVariety', 'VintageRatingCount', 'WineRatingCount', 'Age', 'WinePrice'], axis=1)\n",
    "clean_df.head()"
   ]
  },
  {
   "cell_type": "code",
   "execution_count": 5,
   "metadata": {},
   "outputs": [],
   "source": [
    "clean_df['Year'] = clean_df['Year'].replace(['N.V.'],'2020').dropna().astype(float)"
   ]
  },
  {
   "cell_type": "code",
   "execution_count": 6,
   "metadata": {
    "scrolled": true
   },
   "outputs": [
    {
     "data": {
      "text/plain": [
       "FullName                    object\n",
       "Winery                      object\n",
       "Year                       float64\n",
       "VintageRating              float64\n",
       "VintagePrice               float64\n",
       "VintageRatingPriceRatio    float64\n",
       "WineRating                 float64\n",
       "WineRatingPriceRatio       float64\n",
       "dtype: object"
      ]
     },
     "execution_count": 6,
     "metadata": {},
     "output_type": "execute_result"
    }
   ],
   "source": [
    "clean_df.dtypes"
   ]
  },
  {
   "cell_type": "code",
   "execution_count": 7,
   "metadata": {},
   "outputs": [
    {
     "name": "stdout",
     "output_type": "stream",
     "text": [
      "<class 'pandas.core.frame.DataFrame'>\n",
      "RangeIndex: 4593 entries, 0 to 4592\n",
      "Data columns (total 8 columns):\n",
      " #   Column                   Non-Null Count  Dtype  \n",
      "---  ------                   --------------  -----  \n",
      " 0   FullName                 4593 non-null   object \n",
      " 1   Winery                   4593 non-null   object \n",
      " 2   Year                     4593 non-null   float64\n",
      " 3   VintageRating            4593 non-null   float64\n",
      " 4   VintagePrice             4593 non-null   float64\n",
      " 5   VintageRatingPriceRatio  4593 non-null   float64\n",
      " 6   WineRating               4593 non-null   float64\n",
      " 7   WineRatingPriceRatio     4593 non-null   float64\n",
      "dtypes: float64(6), object(2)\n",
      "memory usage: 287.2+ KB\n"
     ]
    }
   ],
   "source": [
    "clean_df.info()"
   ]
  },
  {
   "cell_type": "code",
   "execution_count": 8,
   "metadata": {},
   "outputs": [
    {
     "data": {
      "text/html": [
       "<div>\n",
       "<style scoped>\n",
       "    .dataframe tbody tr th:only-of-type {\n",
       "        vertical-align: middle;\n",
       "    }\n",
       "\n",
       "    .dataframe tbody tr th {\n",
       "        vertical-align: top;\n",
       "    }\n",
       "\n",
       "    .dataframe thead th {\n",
       "        text-align: right;\n",
       "    }\n",
       "</style>\n",
       "<table border=\"1\" class=\"dataframe\">\n",
       "  <thead>\n",
       "    <tr style=\"text-align: right;\">\n",
       "      <th></th>\n",
       "      <th>Year</th>\n",
       "      <th>VintageRating</th>\n",
       "      <th>VintagePrice</th>\n",
       "      <th>VintageRatingPriceRatio</th>\n",
       "      <th>WineRating</th>\n",
       "      <th>WineRatingPriceRatio</th>\n",
       "    </tr>\n",
       "  </thead>\n",
       "  <tbody>\n",
       "    <tr>\n",
       "      <th>count</th>\n",
       "      <td>4593.000000</td>\n",
       "      <td>4593.000000</td>\n",
       "      <td>4593.000000</td>\n",
       "      <td>4593.000000</td>\n",
       "      <td>4593.000000</td>\n",
       "      <td>4593.000000</td>\n",
       "    </tr>\n",
       "    <tr>\n",
       "      <th>mean</th>\n",
       "      <td>2013.627694</td>\n",
       "      <td>4.208295</td>\n",
       "      <td>103.891106</td>\n",
       "      <td>0.101720</td>\n",
       "      <td>4.159634</td>\n",
       "      <td>0.100227</td>\n",
       "    </tr>\n",
       "    <tr>\n",
       "      <th>std</th>\n",
       "      <td>3.907002</td>\n",
       "      <td>0.171775</td>\n",
       "      <td>437.899654</td>\n",
       "      <td>0.054876</td>\n",
       "      <td>0.175613</td>\n",
       "      <td>0.053594</td>\n",
       "    </tr>\n",
       "    <tr>\n",
       "      <th>min</th>\n",
       "      <td>1983.000000</td>\n",
       "      <td>3.900000</td>\n",
       "      <td>10.500000</td>\n",
       "      <td>0.000512</td>\n",
       "      <td>3.500000</td>\n",
       "      <td>0.000512</td>\n",
       "    </tr>\n",
       "    <tr>\n",
       "      <th>25%</th>\n",
       "      <td>2012.000000</td>\n",
       "      <td>4.100000</td>\n",
       "      <td>28.480000</td>\n",
       "      <td>0.057525</td>\n",
       "      <td>4.000000</td>\n",
       "      <td>0.057333</td>\n",
       "    </tr>\n",
       "    <tr>\n",
       "      <th>50%</th>\n",
       "      <td>2015.000000</td>\n",
       "      <td>4.200000</td>\n",
       "      <td>41.670000</td>\n",
       "      <td>0.100024</td>\n",
       "      <td>4.100000</td>\n",
       "      <td>0.098843</td>\n",
       "    </tr>\n",
       "    <tr>\n",
       "      <th>75%</th>\n",
       "      <td>2016.000000</td>\n",
       "      <td>4.300000</td>\n",
       "      <td>74.680000</td>\n",
       "      <td>0.144828</td>\n",
       "      <td>4.300000</td>\n",
       "      <td>0.142809</td>\n",
       "    </tr>\n",
       "    <tr>\n",
       "      <th>max</th>\n",
       "      <td>2020.000000</td>\n",
       "      <td>4.900000</td>\n",
       "      <td>9180.000000</td>\n",
       "      <td>0.380952</td>\n",
       "      <td>4.700000</td>\n",
       "      <td>0.361905</td>\n",
       "    </tr>\n",
       "  </tbody>\n",
       "</table>\n",
       "</div>"
      ],
      "text/plain": [
       "              Year  VintageRating  VintagePrice  VintageRatingPriceRatio  \\\n",
       "count  4593.000000    4593.000000   4593.000000              4593.000000   \n",
       "mean   2013.627694       4.208295    103.891106                 0.101720   \n",
       "std       3.907002       0.171775    437.899654                 0.054876   \n",
       "min    1983.000000       3.900000     10.500000                 0.000512   \n",
       "25%    2012.000000       4.100000     28.480000                 0.057525   \n",
       "50%    2015.000000       4.200000     41.670000                 0.100024   \n",
       "75%    2016.000000       4.300000     74.680000                 0.144828   \n",
       "max    2020.000000       4.900000   9180.000000                 0.380952   \n",
       "\n",
       "        WineRating  WineRatingPriceRatio  \n",
       "count  4593.000000           4593.000000  \n",
       "mean      4.159634              0.100227  \n",
       "std       0.175613              0.053594  \n",
       "min       3.500000              0.000512  \n",
       "25%       4.000000              0.057333  \n",
       "50%       4.100000              0.098843  \n",
       "75%       4.300000              0.142809  \n",
       "max       4.700000              0.361905  "
      ]
     },
     "execution_count": 8,
     "metadata": {},
     "output_type": "execute_result"
    }
   ],
   "source": [
    "clean_df.describe()"
   ]
  },
  {
   "cell_type": "code",
   "execution_count": 9,
   "metadata": {
    "scrolled": true
   },
   "outputs": [
    {
     "name": "stdout",
     "output_type": "stream",
     "text": [
      "(4593, 5) (4593, 1)\n"
     ]
    }
   ],
   "source": [
    "# \"FullName\", \"Winery\",\n",
    "X = clean_df[[ \"Year\", \"VintagePrice\", \"VintageRatingPriceRatio\", \"WineRating\", \"WineRatingPriceRatio\"]]\n",
    "y = clean_df[\"VintageRating\"].values.reshape(-1, 1)\n",
    "print(X.shape, y.shape)"
   ]
  },
  {
   "cell_type": "code",
   "execution_count": 10,
   "metadata": {},
   "outputs": [],
   "source": [
    "from sklearn.pipeline import make_pipeline\n",
    "from sklearn.linear_model import LinearRegression\n",
    "from sklearn.preprocessing import StandardScaler, OrdinalEncoder\n",
    "from sklearn.model_selection import train_test_split"
   ]
  },
  {
   "cell_type": "code",
   "execution_count": 11,
   "metadata": {},
   "outputs": [
    {
     "data": {
      "text/plain": [
       "array([[-0.41665485, -0.04554303, -0.92034151,  0.79937949, -0.91449465],\n",
       "       [ 0.09530227, -0.05924629, -0.89524864,  0.79937949, -0.84092295],\n",
       "       [ 0.35128084, -0.10583738, -0.49211979,  0.79937949, -0.47603031],\n",
       "       ...,\n",
       "       [ 1.11921652, -0.0869954 , -0.69054848,  0.22988205, -0.67920521],\n",
       "       [ 0.09530227, -0.16720515,  0.52227993, -0.90911283,  0.5626328 ],\n",
       "       [ 1.11921652, -0.18412868,  1.43555664, -0.90911283,  1.33736996]])"
      ]
     },
     "execution_count": 11,
     "metadata": {},
     "output_type": "execute_result"
    }
   ],
   "source": [
    "from sklearn.compose import ColumnTransformer\n",
    "from sklearn.compose import make_column_transformer\n",
    "from sklearn.compose import make_column_selector\n",
    "\n",
    "ct = make_column_transformer(\n",
    "    (StandardScaler(), make_column_selector(dtype_include=np.float64)),\n",
    "    (OrdinalEncoder(), make_column_selector(dtype_include=object))\n",
    ")\n",
    "ct.fit_transform(X)"
   ]
  },
  {
   "cell_type": "code",
   "execution_count": 12,
   "metadata": {},
   "outputs": [
    {
     "data": {
      "text/plain": [
       "0.877734987463609"
      ]
     },
     "execution_count": 12,
     "metadata": {},
     "output_type": "execute_result"
    }
   ],
   "source": [
    "X_encoded = ct.fit_transform(X)\n",
    "y_encoded = y\n",
    "lr = LinearRegression()\n",
    "lr.fit(X_encoded, y_encoded)\n",
    "lr.score(X_encoded, y_encoded)"
   ]
  },
  {
   "cell_type": "code",
   "execution_count": 13,
   "metadata": {},
   "outputs": [
    {
     "data": {
      "text/plain": [
       "0.8640005437048607"
      ]
     },
     "execution_count": 13,
     "metadata": {},
     "output_type": "execute_result"
    }
   ],
   "source": [
    "X_train, X_test, y_train, y_test = train_test_split(X, y, random_state=42)\n",
    "model = make_pipeline(ct, LinearRegression())\n",
    "model.fit(X, y)\n",
    "model.score(X_test, y_test)"
   ]
  },
  {
   "cell_type": "code",
   "execution_count": 14,
   "metadata": {},
   "outputs": [
    {
     "data": {
      "text/html": [
       "<style>div.sk-top-container {color: black;background-color: white;}div.sk-toggleable {background-color: white;}label.sk-toggleable__label {cursor: pointer;display: block;width: 100%;margin-bottom: 0;padding: 0.2em 0.3em;box-sizing: border-box;text-align: center;}div.sk-toggleable__content {max-height: 0;max-width: 0;overflow: hidden;text-align: left;background-color: #f0f8ff;}div.sk-toggleable__content pre {margin: 0.2em;color: black;border-radius: 0.25em;background-color: #f0f8ff;}input.sk-toggleable__control:checked~div.sk-toggleable__content {max-height: 200px;max-width: 100%;overflow: auto;}div.sk-estimator input.sk-toggleable__control:checked~label.sk-toggleable__label {background-color: #d4ebff;}div.sk-label input.sk-toggleable__control:checked~label.sk-toggleable__label {background-color: #d4ebff;}input.sk-hidden--visually {border: 0;clip: rect(1px 1px 1px 1px);clip: rect(1px, 1px, 1px, 1px);height: 1px;margin: -1px;overflow: hidden;padding: 0;position: absolute;width: 1px;}div.sk-estimator {font-family: monospace;background-color: #f0f8ff;margin: 0.25em 0.25em;border: 1px dotted black;border-radius: 0.25em;box-sizing: border-box;}div.sk-estimator:hover {background-color: #d4ebff;}div.sk-parallel-item::after {content: \"\";width: 100%;border-bottom: 1px solid gray;flex-grow: 1;}div.sk-label:hover label.sk-toggleable__label {background-color: #d4ebff;}div.sk-serial::before {content: \"\";position: absolute;border-left: 1px solid gray;box-sizing: border-box;top: 2em;bottom: 0;left: 50%;}div.sk-serial {display: flex;flex-direction: column;align-items: center;background-color: white;}div.sk-item {z-index: 1;}div.sk-parallel {display: flex;align-items: stretch;justify-content: center;background-color: white;}div.sk-parallel-item {display: flex;flex-direction: column;position: relative;background-color: white;}div.sk-parallel-item:first-child::after {align-self: flex-end;width: 50%;}div.sk-parallel-item:last-child::after {align-self: flex-start;width: 50%;}div.sk-parallel-item:only-child::after {width: 0;}div.sk-dashed-wrapped {border: 1px dashed gray;margin: 0.2em;box-sizing: border-box;padding-bottom: 0.1em;background-color: white;position: relative;}div.sk-label label {font-family: monospace;font-weight: bold;background-color: white;display: inline-block;line-height: 1.2em;}div.sk-label-container {position: relative;z-index: 2;text-align: center;}div.sk-container {display: inline-block;position: relative;}</style><div class=\"sk-top-container\"><div class=\"sk-container\"><div class=\"sk-item sk-dashed-wrapped\"><div class=\"sk-label-container\"><div class=\"sk-label sk-toggleable\"><input class=\"sk-toggleable__control sk-hidden--visually\" id=\"67d0db36-8c82-4910-a940-94e545246f43\" type=\"checkbox\" ><label class=\"sk-toggleable__label\" for=\"67d0db36-8c82-4910-a940-94e545246f43\">Pipeline</label><div class=\"sk-toggleable__content\"><pre>Pipeline(steps=[('columntransformer',\n",
       "                 ColumnTransformer(transformers=[('standardscaler',\n",
       "                                                  StandardScaler(),\n",
       "                                                  <sklearn.compose._column_transformer.make_column_selector object at 0x00000237EC03A608>),\n",
       "                                                 ('ordinalencoder',\n",
       "                                                  OrdinalEncoder(),\n",
       "                                                  <sklearn.compose._column_transformer.make_column_selector object at 0x00000237EC0452C8>)])),\n",
       "                ('linearregression', LinearRegression())])</pre></div></div></div><div class=\"sk-serial\"><div class=\"sk-item sk-dashed-wrapped\"><div class=\"sk-label-container\"><div class=\"sk-label sk-toggleable\"><input class=\"sk-toggleable__control sk-hidden--visually\" id=\"08f69710-2806-489a-950d-d2ee4d9e6860\" type=\"checkbox\" ><label class=\"sk-toggleable__label\" for=\"08f69710-2806-489a-950d-d2ee4d9e6860\">columntransformer: ColumnTransformer</label><div class=\"sk-toggleable__content\"><pre>ColumnTransformer(transformers=[('standardscaler', StandardScaler(),\n",
       "                                 <sklearn.compose._column_transformer.make_column_selector object at 0x00000237EC03A608>),\n",
       "                                ('ordinalencoder', OrdinalEncoder(),\n",
       "                                 <sklearn.compose._column_transformer.make_column_selector object at 0x00000237EC0452C8>)])</pre></div></div></div><div class=\"sk-parallel\"><div class=\"sk-parallel-item\"><div class=\"sk-item\"><div class=\"sk-label-container\"><div class=\"sk-label sk-toggleable\"><input class=\"sk-toggleable__control sk-hidden--visually\" id=\"d7353a00-8331-4a5f-9dfc-cd5fb1ffce02\" type=\"checkbox\" ><label class=\"sk-toggleable__label\" for=\"d7353a00-8331-4a5f-9dfc-cd5fb1ffce02\">standardscaler</label><div class=\"sk-toggleable__content\"><pre><sklearn.compose._column_transformer.make_column_selector object at 0x00000237EC03A608></pre></div></div></div><div class=\"sk-serial\"><div class=\"sk-item\"><div class=\"sk-estimator sk-toggleable\"><input class=\"sk-toggleable__control sk-hidden--visually\" id=\"27b5a095-ace1-484e-9c69-2359fd83abba\" type=\"checkbox\" ><label class=\"sk-toggleable__label\" for=\"27b5a095-ace1-484e-9c69-2359fd83abba\">StandardScaler</label><div class=\"sk-toggleable__content\"><pre>StandardScaler()</pre></div></div></div></div></div></div><div class=\"sk-parallel-item\"><div class=\"sk-item\"><div class=\"sk-label-container\"><div class=\"sk-label sk-toggleable\"><input class=\"sk-toggleable__control sk-hidden--visually\" id=\"39f16079-631c-40a3-8b63-cae0a6825ada\" type=\"checkbox\" ><label class=\"sk-toggleable__label\" for=\"39f16079-631c-40a3-8b63-cae0a6825ada\">ordinalencoder</label><div class=\"sk-toggleable__content\"><pre><sklearn.compose._column_transformer.make_column_selector object at 0x00000237EC0452C8></pre></div></div></div><div class=\"sk-serial\"><div class=\"sk-item\"><div class=\"sk-estimator sk-toggleable\"><input class=\"sk-toggleable__control sk-hidden--visually\" id=\"bf1938a2-a2d8-41f3-aae1-5595f0d2925a\" type=\"checkbox\" ><label class=\"sk-toggleable__label\" for=\"bf1938a2-a2d8-41f3-aae1-5595f0d2925a\">OrdinalEncoder</label><div class=\"sk-toggleable__content\"><pre>OrdinalEncoder()</pre></div></div></div></div></div></div></div></div><div class=\"sk-item\"><div class=\"sk-estimator sk-toggleable\"><input class=\"sk-toggleable__control sk-hidden--visually\" id=\"c0181d2e-d427-4219-bae8-2a5b08225b4e\" type=\"checkbox\" ><label class=\"sk-toggleable__label\" for=\"c0181d2e-d427-4219-bae8-2a5b08225b4e\">LinearRegression</label><div class=\"sk-toggleable__content\"><pre>LinearRegression()</pre></div></div></div></div></div></div></div>"
      ],
      "text/plain": [
       "Pipeline(steps=[('columntransformer',\n",
       "                 ColumnTransformer(transformers=[('standardscaler',\n",
       "                                                  StandardScaler(),\n",
       "                                                  <sklearn.compose._column_transformer.make_column_selector object at 0x00000237EC03A608>),\n",
       "                                                 ('ordinalencoder',\n",
       "                                                  OrdinalEncoder(),\n",
       "                                                  <sklearn.compose._column_transformer.make_column_selector object at 0x00000237EC0452C8>)])),\n",
       "                ('linearregression', LinearRegression())])"
      ]
     },
     "execution_count": 14,
     "metadata": {},
     "output_type": "execute_result"
    }
   ],
   "source": [
    "# visualize pipeline\n",
    "from sklearn import set_config\n",
    "set_config(display=\"diagram\")\n",
    "model"
   ]
  },
  {
   "cell_type": "code",
   "execution_count": 15,
   "metadata": {
    "scrolled": true
   },
   "outputs": [
    {
     "data": {
      "text/plain": [
       "[('columntransformer',\n",
       "  ColumnTransformer(transformers=[('standardscaler', StandardScaler(),\n",
       "                                   <sklearn.compose._column_transformer.make_column_selector object at 0x00000237EC03A608>),\n",
       "                                  ('ordinalencoder', OrdinalEncoder(),\n",
       "                                   <sklearn.compose._column_transformer.make_column_selector object at 0x00000237EC0452C8>)])),\n",
       " ('linearregression', LinearRegression())]"
      ]
     },
     "execution_count": 15,
     "metadata": {},
     "output_type": "execute_result"
    }
   ],
   "source": [
    "# steps that transform input data into a format understod by the model\n",
    "model.steps"
   ]
  },
  {
   "cell_type": "code",
   "execution_count": 16,
   "metadata": {
    "scrolled": false
   },
   "outputs": [
    {
     "data": {
      "image/png": "[encoded data removed]",
      "text/plain": [
       "<Figure size 576x396 with 2 Axes>"
      ]
     },
     "metadata": {},
     "output_type": "display_data"
    },
    {
     "data": {
      "text/plain": [
       "<AxesSubplot:title={'center':'Residuals for LinearRegression Model'}, xlabel='Predicted Value', ylabel='Residuals'>"
      ]
     },
     "execution_count": 16,
     "metadata": {},
     "output_type": "execute_result"
    }
   ],
   "source": [
    "from yellowbrick.regressor import ResidualsPlot\n",
    "from sklearn.linear_model import LinearRegression\n",
    "from sklearn.model_selection import train_test_split\n",
    "\n",
    "# Create training and test sets\n",
    "X_train, X_test, y_train, y_test = train_test_split(\n",
    "    X, y, test_size=0.1\n",
    ")\n",
    "\n",
    "visualizer = ResidualsPlot(model)\n",
    "visualizer.fit(X, y)\n",
    "visualizer.score(X_test, y_test)\n",
    "visualizer.show()"
   ]
  },
  {
   "cell_type": "code",
   "execution_count": 17,
   "metadata": {},
   "outputs": [],
   "source": [
    "from sklearn.metrics import mean_squared_error\n",
    "\n",
    "predictions = model.predict(X_test)\n",
    "MSE = mean_squared_error(y_test, predictions)\n",
    "r2 = model.score(X_test, y_test)"
   ]
  },
  {
   "cell_type": "code",
   "execution_count": 18,
   "metadata": {},
   "outputs": [
    {
     "name": "stdout",
     "output_type": "stream",
     "text": [
      "MSE: 0.004011450488902887, R2: 0.8660340613638573\n"
     ]
    }
   ],
   "source": [
    "print(f\"MSE: {MSE}, R2: {r2}\")"
   ]
  },
  {
   "cell_type": "code",
   "execution_count": 19,
   "metadata": {},
   "outputs": [
    {
     "data": {
      "image/png": "[encoded data removed]",
      "text/plain": [
       "<Figure size 576x396 with 2 Axes>"
      ]
     },
     "metadata": {},
     "output_type": "display_data"
    },
    {
     "data": {
      "text/plain": [
       "<AxesSubplot:title={'center':'Pearson Ranking of 5 Features'}>"
      ]
     },
     "execution_count": 19,
     "metadata": {},
     "output_type": "execute_result"
    }
   ],
   "source": [
    "from yellowbrick.features import Rank2D\n",
    "\n",
    "visualizer = Rank2D(algorithm=\"pearson\")\n",
    "visualizer.fit_transform(X)\n",
    "visualizer.show()"
   ]
  },
  {
   "cell_type": "code",
   "execution_count": 20,
   "metadata": {},
   "outputs": [],
   "source": [
    "clean_df.to_csv('clean_df.csv', index=False)"
   ]
  },
  {
   "cell_type": "code",
   "execution_count": null,
   "metadata": {},
   "outputs": [],
   "source": []
  }
 ],
 "metadata": {
  "kernelspec": {
   "display_name": "mlenv",
   "language": "python",
   "name": "mlenv"
  },
  "language_info": {
   "codemirror_mode": {
    "name": "ipython",
    "version": 3
   },
   "file_extension": ".py",
   "mimetype": "text/x-python",
   "name": "python",
   "nbconvert_exporter": "python",
   "pygments_lexer": "ipython3",
   "version": "3.7.9"
  }
 },
 "nbformat": 4,
 "nbformat_minor": 4
}
